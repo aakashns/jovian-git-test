{
 "cells": [
  {
   "cell_type": "code",
   "execution_count": 1,
   "metadata": {},
   "outputs": [
    {
     "name": "stdout",
     "output_type": "stream",
     "text": [
      "Collecting jovian\n",
      "\u001b[?25l  Downloading https://files.pythonhosted.org/packages/2f/0c/cc6230a4556fac2a87493557c9dd1cdc4e982544e5f6cf20fe268124492e/jovian-0.1.94-py2.py3-none-any.whl (50kB)\n",
      "\u001b[K    100% |████████████████████████████████| 51kB 1.9MB/s ta 0:00:011\n",
      "\u001b[?25hRequirement not upgraded as not directly required: requests in /Users/aakashns/miniconda3/envs/jovian-git-test/lib/python3.5/site-packages (from jovian) (2.22.0)\n",
      "Requirement not upgraded as not directly required: uuid in /Users/aakashns/miniconda3/envs/jovian-git-test/lib/python3.5/site-packages (from jovian) (1.30)\n",
      "Requirement not upgraded as not directly required: pyyaml in /Users/aakashns/miniconda3/envs/jovian-git-test/lib/python3.5/site-packages (from jovian) (5.2)\n",
      "Requirement not upgraded as not directly required: click in /Users/aakashns/miniconda3/envs/jovian-git-test/lib/python3.5/site-packages (from jovian) (7.0)\n",
      "Requirement not upgraded as not directly required: urllib3!=1.25.0,!=1.25.1,<1.26,>=1.21.1 in /Users/aakashns/miniconda3/envs/jovian-git-test/lib/python3.5/site-packages (from requests->jovian) (1.25.7)\n",
      "Requirement not upgraded as not directly required: chardet<3.1.0,>=3.0.2 in /Users/aakashns/miniconda3/envs/jovian-git-test/lib/python3.5/site-packages (from requests->jovian) (3.0.4)\n",
      "Requirement not upgraded as not directly required: idna<2.9,>=2.5 in /Users/aakashns/miniconda3/envs/jovian-git-test/lib/python3.5/site-packages (from requests->jovian) (2.8)\n",
      "Requirement not upgraded as not directly required: certifi>=2017.4.17 in /Users/aakashns/miniconda3/envs/jovian-git-test/lib/python3.5/site-packages (from requests->jovian) (2018.8.24)\n",
      "Installing collected packages: jovian\n",
      "  Found existing installation: jovian 0.1.92\n",
      "    Uninstalling jovian-0.1.92:\n",
      "      Successfully uninstalled jovian-0.1.92\n",
      "Successfully installed jovian-0.1.94\n",
      "\u001b[33mYou are using pip version 10.0.1, however version 19.3.1 is available.\n",
      "You should consider upgrading via the 'pip install --upgrade pip' command.\u001b[0m\n"
     ]
    }
   ],
   "source": [
    "!pip install jovian --upgrade --no-cache"
   ]
  },
  {
   "cell_type": "code",
   "execution_count": 2,
   "metadata": {},
   "outputs": [
    {
     "data": {
      "application/javascript": [
       "if (window.IPython && IPython.notebook.kernel) IPython.notebook.kernel.execute('jovian.utils.jupyter.get_notebook_name_saved = lambda: \"' + IPython.notebook.notebook_name + '\"')"
      ],
      "text/plain": [
       "<IPython.core.display.Javascript object>"
      ]
     },
     "metadata": {},
     "output_type": "display_data"
    }
   ],
   "source": [
    "import jovian"
   ]
  },
  {
   "cell_type": "code",
   "execution_count": null,
   "metadata": {},
   "outputs": [
    {
     "name": "stdout",
     "output_type": "stream",
     "text": [
      "[jovian] Saving notebook..\n"
     ]
    },
    {
     "data": {
      "application/javascript": [
       "window.require && require([\"base/js/namespace\"],function(Jupyter){Jupyter.notebook.save_checkpoint()})"
      ],
      "text/plain": [
       "<IPython.core.display.Javascript object>"
      ]
     },
     "metadata": {},
     "output_type": "display_data"
    }
   ],
   "source": [
    "jovian.commit(secret=True, notebook_id='aakashns/jovian-git-test')"
   ]
  },
  {
   "cell_type": "code",
   "execution_count": null,
   "metadata": {},
   "outputs": [],
   "source": []
  }
 ],
 "metadata": {
  "kernelspec": {
   "display_name": "Python 3",
   "language": "python",
   "name": "python3"
  },
  "language_info": {
   "codemirror_mode": {
    "name": "ipython",
    "version": 3
   },
   "file_extension": ".py",
   "mimetype": "text/x-python",
   "name": "python",
   "nbconvert_exporter": "python",
   "pygments_lexer": "ipython3",
   "version": "3.5.6"
  }
 },
 "nbformat": 4,
 "nbformat_minor": 2
}
